{
 "cells": [
  {
   "cell_type": "markdown",
   "metadata": {},
   "source": [
    "print('hijjjjj')"
   ]
  },
  {
   "cell_type": "markdown",
   "metadata": {},
   "source": []
  },
  {
   "cell_type": "code",
   "execution_count": null,
   "metadata": {},
   "outputs": [],
   "source": []
  },
  {
   "cell_type": "markdown",
   "metadata": {},
   "source": [
    "# 주제1\n",
    "## 주제2\n",
    "### 주제3\n",
    "#### 주제4\n",
    "##### 주제5\n",
    "###### 주제6\n",
    "\n",
    "<인용구>\n",
    "> 중요한 것은 꺽이지 않는 마음\n",
    "\n",
    "<순서없는 목로>\n",
    "1. 첫\n",
    "2. 둘\n",
    "3. 셋\n",
    "\n",
    "<순서없는 목록>\n",
    "- 하나\n",
    "- 둘\n",
    "- 셋"
   ]
  },
  {
   "cell_type": "code",
   "execution_count": 7,
   "metadata": {},
   "outputs": [],
   "source": [
    "a = 1\n",
    "b = 2"
   ]
  },
  {
   "cell_type": "code",
   "execution_count": null,
   "metadata": {},
   "outputs": [],
   "source": [
    "c= a+b\n",
    "c"
   ]
  },
  {
   "cell_type": "code",
   "execution_count": null,
   "metadata": {},
   "outputs": [],
   "source": []
  }
 ],
 "metadata": {
  "kernelspec": {
   "display_name": "jupyterpractice",
   "language": "python",
   "name": "python3"
  },
  "language_info": {
   "codemirror_mode": {
    "name": "ipython",
    "version": 3
   },
   "file_extension": ".py",
   "mimetype": "text/x-python",
   "name": "python",
   "nbconvert_exporter": "python",
   "pygments_lexer": "ipython3",
   "version": "3.11.2"
  },
  "orig_nbformat": 4
 },
 "nbformat": 4,
 "nbformat_minor": 2
}
