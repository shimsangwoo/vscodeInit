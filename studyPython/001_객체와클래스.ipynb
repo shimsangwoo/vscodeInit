{
 "cells": [
  {
   "attachments": {},
   "cell_type": "markdown",
   "metadata": {},
   "source": [
    "# 객체와 클래스\n",
    "\n",
    "2023.04.15. 학습"
   ]
  },
  {
   "attachments": {},
   "cell_type": "markdown",
   "metadata": {},
   "source": [
    "## 객체(Object)\n",
    "- 객체란 존재하는 모든 것들을 의미\n",
    "- 현실 세계는 객체로 이루어져 있고, 모든 사건들은 사물간의 상호작용을 통해 발생\n",
    "- 객체란 객체의 속성을 이루는 **데이터**들 뿐만 아니라 그데이터의 **조작방법**에 대한 내용도 포함\n",
    "- 객체는 속성과 기능을 가지고 있는 것이 핵심\n",
    "\n",
    "||\n",
    "|--|\n",
    "|Name|\n",
    "|Attributes|\n",
    "|Methods|"
   ]
  },
  {
   "attachments": {},
   "cell_type": "markdown",
   "metadata": {},
   "source": [
    "### 객체지향프로그래밍(Object Oriented Programming)\n",
    "- 객체의 개념을 다루는 것이 객체 지향\n",
    "- 객체 지향 프로그래밍은 컴퓨터 프로그래밍 기법 중 하나\n",
    "- 프로그램을 단순히 데이터와 처리방법으로 나누는 것이 아니라, 프로그램을 수많은 '객체'라는 단위로 구분하고, 이 객체들의 상호작용하는 방식\n",
    "- 각각의 객체는 메시지를 주고 받고, 데이터를 처리\n",
    "\n",
    "<!-- ![오브젝트관계](./imageFile/pic_object.jpg)  -->\n",
    "<img src=\"./imageFile/pic_object.jpg\" alt=\"작은그림\" width=\"400\" height=\"200\">\n"
   ]
  },
  {
   "attachments": {},
   "cell_type": "markdown",
   "metadata": {},
   "source": [
    "## 클래스(Class)\n",
    "### 클래스 정의\n",
    "- 객체의 구성요소를 담는 개념\n",
    "- 여러래의 속성(Attribute)과 메서드(Method)를 포함하는 개념\n",
    "- 객체를 정의하는 틀 또는 설계도\n",
    "- 실제 생성된 객체는 인스턴스(Instance)\n",
    "- instance는 메모리에 할당된 객체를 의미(알맹이?? 클래스는 틀(그릇)이고, 그걸로 만들어진 것은 인스턴스)\n",
    "- 클래스 문법\n",
    "\n",
    "```python\n",
    "class Name(object):\n",
    "```\n",
    "\n",
    "---\n",
    "- class : 클래스 정의\n",
    "- Name  : 클래스 명\n",
    "- object: 상속받는 객체명\n",
    "\n",
    "### 클래스 만들기 실습\n",
    "- 클래스 이름 : book\n",
    "- 속성 : 저자, 책이름, 출판사, 발행일\n"
   ]
  },
  {
   "cell_type": "code",
   "execution_count": 8,
   "metadata": {},
   "outputs": [],
   "source": [
    "class Book(object):\n",
    "    author = \"\"\n",
    "    title = \"\"\n",
    "    publisher = \"\"\n",
    "    date = \"\""
   ]
  },
  {
   "cell_type": "code",
   "execution_count": 9,
   "metadata": {},
   "outputs": [
    {
     "name": "stdout",
     "output_type": "stream",
     "text": [
      "sammy\n",
      "python programming\n"
     ]
    }
   ],
   "source": [
    "book = Book()\n",
    "book.author = \"sammy\"\n",
    "print(book.author)\n",
    "book.title = \"python programming\"\n",
    "print(book.title)"
   ]
  },
  {
   "cell_type": "code",
   "execution_count": 15,
   "metadata": {},
   "outputs": [],
   "source": [
    "class Book(object):\n",
    "    author = \"\"\n",
    "    title = \"\"\n",
    "    publisher = \"\"\n",
    "    date = \"\"\n",
    "    \n",
    "    def print_info(self):   \n",
    "        print(\"Author:\", self.author)\n",
    "        print(\"Title:\", self.title)\n",
    "        print(\"Publisher:\", self.publisher)\n",
    "        print(\"Date:\", self.date)"
   ]
  },
  {
   "cell_type": "markdown",
   "metadata": {},
   "source": [
    "## 인스턴스 속성(Instance Attribute)\n",
    "- `Book`클래스에서 생성된 인스턴스`b1`에서 속성을 활용\n"
   ]
  },
  {
   "cell_type": "code",
   "execution_count": 11,
   "metadata": {},
   "outputs": [
    {
     "name": "stdout",
     "output_type": "stream",
     "text": [
      "Author: sangwoo\n",
      "Title: 프로그램기초\n"
     ]
    }
   ],
   "source": [
    "book= Book()\n",
    "book.author =\"sangwoo\"\n",
    "book.title = \"프로그램기초\"\n",
    "book.print_info()"
   ]
  },
  {
   "cell_type": "code",
   "execution_count": 16,
   "metadata": {},
   "outputs": [
    {
     "name": "stdout",
     "output_type": "stream",
     "text": [
      "Author: ssw\n",
      "Title: studyprogram\n",
      "Publisher: chulpancompany\n",
      "Date: 2023\n"
     ]
    }
   ],
   "source": [
    "b1 = Book()\n",
    "b1.author = \"ssw\"\n",
    "b1.title = \"studyprogram\"\n",
    "b1.publisher = \"chulpancompany\"\n",
    "b1.date = \"2023\"\n",
    "b1.print_info()"
   ]
  },
  {
   "attachments": {},
   "cell_type": "markdown",
   "metadata": {},
   "source": [
    "## 클래스속성(Class Attribute)\n",
    "- 클래스의 속성을 줄 수도 있다.(아래예시를 참조)\n",
    "- 목적은 다르다.(타입매개변수, 인스턴스매개변수와 관계)"
   ]
  },
  {
   "cell_type": "code",
   "execution_count": 19,
   "metadata": {},
   "outputs": [
    {
     "name": "stdout",
     "output_type": "stream",
     "text": [
      "Author: ssw\n",
      "Title: studyprogram\n",
      "Publisher: chulpancompany\n",
      "Date: 2023\n"
     ]
    }
   ],
   "source": [
    "Book.author = \"ssw\"\n",
    "Book.title = \"studyprogram\"\n",
    "Book.publisher = \"chulpancompany\"\n",
    "Book.date = \"2023\"\n",
    "b1.print_info()"
   ]
  },
  {
   "cell_type": "markdown",
   "metadata": {},
   "source": [
    "#### 이렇게 수정해 보자.\n",
    "1. 인스턴스 속성\n",
    "   - 저자\n",
    "   - 제목\n",
    "   - 출판사\n",
    "   - 발행일\n",
    "2. 클래스 속성\n",
    "   - 수량 : count"
   ]
  },
  {
   "cell_type": "code",
   "execution_count": 21,
   "metadata": {},
   "outputs": [],
   "source": [
    "class Book(object):\n",
    "    author = \"\"\n",
    "    title = \"\"\n",
    "    publisher = \"\"\n",
    "    date = \"\"\n",
    "    count = 0\n",
    "    \n",
    "    def print_info(self):   \n",
    "        print(\"Author:\", self.author)\n",
    "        print(\"Title:\", self.title)\n",
    "        print(\"Publisher:\", self.publisher)\n",
    "        print(\"Date:\", self.date)"
   ]
  },
  {
   "cell_type": "code",
   "execution_count": 24,
   "metadata": {},
   "outputs": [
    {
     "name": "stdout",
     "output_type": "stream",
     "text": [
      "Author: ssw\n",
      "Title: studyprogram\n",
      "Publisher: chulpancompany\n",
      "Date: 2023\n",
      "Number of Books: 3\n"
     ]
    }
   ],
   "source": [
    "Book.count += 1\n",
    "b1.author = \"ssw\"\n",
    "b1.title = \"studyprogram\"\n",
    "b1.publisher = \"chulpancompany\"\n",
    "b1.date = \"2023\"\n",
    "b1.print_info()\n",
    "print(\"Number of Books:\", str(Book.count))"
   ]
  },
  {
   "attachments": {},
   "cell_type": "markdown",
   "metadata": {},
   "source": [
    "## 클래스 매직 메서드(Class Masic Method)\n",
    "- \"_\"를 2개 붙여서 매직 메서드 또는 속성에 사용 가능\n",
    "- __을 속성앞에 붙이면 가시성을 위한 속성으로 사용\n",
    "- 클래스 매직 메소드의 종류\n",
    "\n",
    "|매직매서드|설명|\n",
    "|--|--|\n",
    "|`__init__`|객체의 초기화를 위해 클래스 생성시 호출되는 동작을 정의|\n",
    "|`__str__`|클래스의 인스턴스에서 str()이 호출될 때의 동작을 정의|\n",
    "|`__repr__`|클래스의 인스턴스에서 repr()이 호출도리 때의 동작을 정의|\n",
    "|`__new__`|객체의 인스턴스화에서 호출되는 첫번째 메소드|\n",
    "|`__del__`|객체가 소멸될 때 호출되는 메소드|\n",
    "|`__dir__`|클래스의 인스턴스에서 dir()이 호출도리 때의 동작을 정의|\n",
    "|`__getattr__`|존재하지 않는 속성에 액세스하려고 시도할 때 행위를 정의|\n",
    "|`__setattr__`|캡슐화를 위한 방법 정의|\n",
    "|`__add__`|두 인스턴스의 더하기가 일어날 때 실행되는 동작 정의|\n",
    "|`__lt__`|인스턴스간의 <=,>,=>,==,!= 비교 메소드 less than 작다|\n",
    "|`__le__`|less equal 작거나 같다|\n",
    "|`__gt__`|greater than 크다|\n",
    "|`__ge__`|greater equal 크거나 같다|\n",
    "|`__eq__`|같다|\n",
    "|`__ne__`|같지 않다.|\n"
   ]
  },
  {
   "cell_type": "code",
   "execution_count": 26,
   "metadata": {},
   "outputs": [],
   "source": [
    "# 생성자 : 북인스턴스를 만들때마다 초기화 시켜준다.\n",
    "class Book(object):\n",
    "    count = 0\n",
    "    \n",
    "    def __init__(self, author, title, publisher, date):\n",
    "        self.author = author\n",
    "        self.title = title\n",
    "        self.publisher = publisher\n",
    "        self.date = date\n",
    "        Book.count += 1\n",
    "    def print_info(self):   \n",
    "        print(\"Author:\", self.author)\n",
    "        print(\"Title:\", self.title)\n",
    "        print(\"Publisher:\", self.publisher)\n",
    "        print(\"Date:\", self.date)"
   ]
  },
  {
   "attachments": {},
   "cell_type": "markdown",
   "metadata": {},
   "source": [
    "### __ init __ 사용법\n",
    "\n",
    "```python\n",
    "__init__\n",
    "```"
   ]
  },
  {
   "cell_type": "code",
   "execution_count": 29,
   "metadata": {},
   "outputs": [
    {
     "name": "stdout",
     "output_type": "stream",
     "text": [
      "Author: 상우\n",
      "Title: 제목없음\n",
      "Publisher: 건기원\n",
      "Date: 2022\n",
      "Number of Books: 3\n"
     ]
    }
   ],
   "source": [
    "b2 = Book('상우','제목없음','건기원','2022')\n",
    "b2.print_info()\n",
    "print(\"Number of Books:\", str(Book.count))"
   ]
  },
  {
   "attachments": {},
   "cell_type": "markdown",
   "metadata": {},
   "source": [
    "### __str__사용법\n",
    "```python\n",
    "___str___\n",
    "```\n",
    "사용법"
   ]
  },
  {
   "cell_type": "code",
   "execution_count": 45,
   "metadata": {},
   "outputs": [],
   "source": [
    "class Book(object):\n",
    "    count = 0\n",
    "    \n",
    "    def __init__(self, author, title, publisher, date):\n",
    "        self.author = author\n",
    "        self.title = title\n",
    "        self.publisher = publisher\n",
    "        self.date = date\n",
    "        Book.count += 1\n",
    "\n",
    "    def __str__(self):\n",
    "        return(\"Author:\" + self.author +\n",
    "                \"\\nTitle:\" + self.title +\n",
    "                \"\\nPublisher:\" + self.publisher +\n",
    "                \"\\nDate:\" + self.date)\n",
    "    \n",
    "    ## 쉼표로 나누기 하니 튜플로 반환됨. 튜플은 __str__메소드가 작동하지 않는다.\n",
    "    \n",
    "        "
   ]
  },
  {
   "cell_type": "code",
   "execution_count": 46,
   "metadata": {},
   "outputs": [
    {
     "name": "stdout",
     "output_type": "stream",
     "text": [
      "Author:최진우\n",
      "Title:제목없음2\n",
      "Publisher:건기원2\n",
      "Date:2002\n",
      "Number of Books: 1\n"
     ]
    }
   ],
   "source": [
    "b3 = Book('최진우','제목없음2','건기원2','2002')\n",
    "print(b3)   # 프린트 명령을 사용하지 않고도 __str__ 매직메서드가 작동하면서 출력해준다.\n",
    "print(\"Number of Books:\", str(Book.count))"
   ]
  },
  {
   "attachments": {},
   "cell_type": "markdown",
   "metadata": {},
   "source": [
    "###  line class 예제"
   ]
  },
  {
   "cell_type": "code",
   "execution_count": null,
   "metadata": {},
   "outputs": [],
   "source": []
  }
 ],
 "metadata": {
  "kernelspec": {
   "display_name": "jupyterpractice",
   "language": "python",
   "name": "python3"
  },
  "language_info": {
   "codemirror_mode": {
    "name": "ipython",
    "version": 3
   },
   "file_extension": ".py",
   "mimetype": "text/x-python",
   "name": "python",
   "nbconvert_exporter": "python",
   "pygments_lexer": "ipython3",
   "version": "3.11.2"
  },
  "orig_nbformat": 4
 },
 "nbformat": 4,
 "nbformat_minor": 2
}
